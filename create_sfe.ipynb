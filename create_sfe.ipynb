{
  "cells": [
    {
      "cell_type": "raw",
      "id": "076e079f",
      "metadata": {
        "id": "076e079f"
      },
      "source": [
        "---\n",
        "title: \"Create a SpatialFeatureExperiment object\"\n",
        "author: \"Lambda Moses\"\n",
        "date: \"`r Sys.Date()`\"\n",
        "output:\n",
        "  html_document:\n",
        "  toc: true\n",
        "  toc_float:\n",
        "    collapsed: false\n",
        "  toc_depth: 3\n",
        "vignette: >\n",
        "  %\\VignetteIndexEntry{create_sfe}\n",
        "  %\\VignetteEngine{knitr::rmarkdown}\n",
        "  %\\VignetteEncoding{UTF-8}\n",
        "---"
      ]
    },
    {
      "cell_type": "code",
      "execution_count": 1,
      "id": "cb911c8f",
      "metadata": {
        "tags": [
          "remove_cell"
        ],
        "id": "cb911c8f"
      },
      "outputs": [],
      "source": [
        "knitr::opts_chunk$set(\n",
        "  collapse = TRUE,\n",
        "  comment = \"#>\"\n",
        ")"
      ]
    },
    {
      "cell_type": "code",
      "execution_count": null,
      "id": "9f167a55",
      "metadata": {
        "eval": false,
        "tags": [
          "remove_cell"
        ],
        "colab": {
          "base_uri": "https://localhost:8080/"
        },
        "id": "9f167a55",
        "outputId": "871d318b-2f86-4d5e-e70a-8146a1dbb28a"
      },
      "outputs": [
        {
          "output_type": "stream",
          "name": "stderr",
          "text": [
            "Installing package into ‘/usr/local/lib/R/site-library’\n",
            "(as ‘lib’ is unspecified)\n",
            "\n",
            "also installing the dependencies ‘proxy’, ‘e1071’, ‘wk’, ‘classInt’, ‘s2’, ‘units’\n",
            "\n",
            "\n",
            "Installing package into ‘/usr/local/lib/R/site-library’\n",
            "(as ‘lib’ is unspecified)\n",
            "\n",
            "Installing package into ‘/usr/local/lib/R/site-library’\n",
            "(as ‘lib’ is unspecified)\n",
            "\n"
          ]
        }
      ],
      "source": [
        "# Install Google Colab dependencies\n",
        "# Note: this can take 30+ minutes (many of the dependencies include C++ code, which needs to be compiled)\n",
        "\n",
        "# First install `sf`, `ragg` and `textshaping` and their system dependencies:\n",
        "system(\"apt-get -y update && apt-get install -y  libudunits2-dev libgdal-dev libgeos-dev libproj-dev libharfbuzz-dev libfribidi-dev\")\n",
        "install.packages(\"sf\")\n",
        "install.packages(\"textshaping\")\n",
        "install.packages(\"ragg\")\n",
        "\n",
        "# Install system dependencies of some other R packages that Voyager either imports or suggests:\n",
        "system(\"apt-get install -y libfribidi-dev libcairo2-dev libmagick++-dev\")\n",
        "\n",
        "# Install Voyager from Bioconductor:\n",
        "install.packages(\"BiocManager\")\n",
        "BiocManager::install(version = \"release\", ask = FALSE, update = FALSE, Ncpus = 2)\n",
        "BiocManager::install(\"scater\")\n",
        "system.time(\n",
        "  BiocManager::install(\"Voyager\", dependencies = TRUE, Ncpus = 2, update = FALSE)\n",
        ")\n",
        "\n",
        "# Additional dependencies for this notebook\n",
        "#install.packages(\"arrow\")\n",
        "\n",
        "packageVersion(\"Voyager\")"
      ]
    },
    {
      "cell_type": "code",
      "execution_count": null,
      "id": "57581301",
      "metadata": {
        "lines_to_next_cell": 0,
        "message": false,
        "name": "setup",
        "id": "57581301"
      },
      "outputs": [],
      "source": [
        "library(Voyager)\n",
        "library(SpatialFeatureExperiment)\n",
        "library(rjson)\n",
        "library(Matrix)\n",
        "library(SFEData)\n",
        "library(RBioFormats)"
      ]
    },
    {
      "cell_type": "markdown",
      "id": "d628d3b7",
      "metadata": {
        "id": "d628d3b7"
      },
      "source": [
        "The following is reproduced from the [SFE vignette](https://pachterlab.github.io/SpatialFeatureExperiment/articles/SFE.html#object-construction).\n",
        "\n",
        "# Visium Space Ranger output\n",
        "\n",
        "10x Genomics Space Ranger output from a Visium experiment can be read in a similar manner as in `SpatialExperiment`; the `SpatialFeatureExperiment` SFE object has the `spotPoly` column geometry for the spot polygons. If the filtered matrix (i.e. only spots in the tissue) is read in, then a column graph called `visium` will also be present for the spatial neighborhood graph of the Visium spots on the tissue. The graph is not computed if all spots are read in regardless of whether they are on tissue."
      ]
    },
    {
      "cell_type": "code",
      "execution_count": null,
      "id": "472dd0f3",
      "metadata": {
        "id": "472dd0f3"
      },
      "outputs": [],
      "source": [
        "dir <- system.file(\"extdata\", package = \"SpatialFeatureExperiment\")\n",
        "sample_ids <- c(\"sample01\", \"sample02\")\n",
        "(samples <- file.path(dir, sample_ids, \"outs\"))"
      ]
    },
    {
      "cell_type": "markdown",
      "id": "046fcc6f",
      "metadata": {
        "id": "046fcc6f"
      },
      "source": [
        "The results for each tissue capture should be in the `outs` directory. Inside the `outs` directory there are two directories: `raw_reature_bc_matrix` has the unfiltered gene count matrix, and `spatial` has the spatial information."
      ]
    },
    {
      "cell_type": "code",
      "execution_count": null,
      "id": "79a210be",
      "metadata": {
        "id": "79a210be"
      },
      "outputs": [],
      "source": [
        "list.files(samples[1])"
      ]
    },
    {
      "cell_type": "markdown",
      "id": "fe7f905f",
      "metadata": {
        "id": "fe7f905f"
      },
      "source": [
        "The [`DropletUtils`](https://bioconductor.org/packages/release/bioc/html/DropletUtils.html) package has a function `read10xCounts()` which reads the gene count matrix. SPE reads in the spatial information, and SFE uses the spatial information to construct Visium spot polygons and spatial neighborhood graphs. Inside the `spatial` directory:"
      ]
    },
    {
      "cell_type": "code",
      "execution_count": null,
      "id": "6759bff3",
      "metadata": {
        "id": "6759bff3"
      },
      "outputs": [],
      "source": [
        "list.files(file.path(samples[1], \"spatial\"))"
      ]
    },
    {
      "cell_type": "markdown",
      "id": "9b94f50a",
      "metadata": {
        "id": "9b94f50a"
      },
      "source": [
        "`tissue_lowres_image.png` is a low resolution image of the tissue.\n",
        "\n",
        "Inside the `scalefactors_json.json` file:"
      ]
    },
    {
      "cell_type": "code",
      "execution_count": null,
      "id": "298dd9eb",
      "metadata": {
        "id": "298dd9eb"
      },
      "outputs": [],
      "source": [
        "fromJSON(file = file.path(samples[1], \"spatial\", \"scalefactors_json.json\"))"
      ]
    },
    {
      "cell_type": "markdown",
      "id": "942adc42",
      "metadata": {
        "id": "942adc42"
      },
      "source": [
        "`spot_diameter_fullres` is the diameter of each Visium spot in the full resolution H&E image in pixels. `tissue_hires_scalef` and `tissue_lowres_scalef` are the ratio of the size of the high resolution (but not full resolution) and low resolution H&E image to the full resolution image. `fiducial_diameter_fullres` is the diameter of each fiducial spot used to align the spots to the H&E image in pixels in the full resolution image.\n",
        "\n",
        "The `tissue_positions_list.csv` file contains information for the spatial coordinates of the spots and whether each spot is in tissue as automatically detected by Space Ranger or manually annotated in the Loupe browser. If the polygon of the tissue boundary is available, whether from image processing or manual annotation, geometric operations as supported by the SFE package, which is based on the `sf` package, can be used to find which spots intersect with the tissue and which spots are contained in the tissue. Geometric operations can also find the polygons of the intersections between spots and the tissue, but the results can get messy since the intersections can have not only polygons but also points and lines.\n",
        "\n",
        "Now we read in the toy data that is in the Space Ranger output format. Since Bioconductor version release (Voyager version 1.2.0), the image is read as a `SpatRaster` object with the [`terra`](https://rspatial.github.io/terra/index.html) package, so it is not loaded into memory unless necessary. When plotting a large image, it will be downsampled and thus not fully loaded into memory. The unit can be set with the `unit` argument, and can be either pixels in full resolution image or microns. The latter is calculated from the former based on spacing between spots, which is known to be 100 microns."
      ]
    },
    {
      "cell_type": "code",
      "execution_count": null,
      "id": "0f315d40",
      "metadata": {
        "id": "0f315d40"
      },
      "outputs": [],
      "source": [
        "(sfe3 <- read10xVisiumSFE(samples, dirs = samples, sample_id = sample_ids,\n",
        "                          type = \"sparse\", data = \"filtered\", images = \"lowres\",\n",
        "                          unit = \"full_res_image_pixel\"))"
      ]
    },
    {
      "cell_type": "markdown",
      "id": "66a9f704",
      "metadata": {
        "id": "66a9f704"
      },
      "source": [
        "Space Ranger output includes the gene count matrix, spot coordinates, and spot diameter. The Space Ranger output does NOT include nuclei segmentation or pathologist annotation of histological regions. Extra image processing, such as with ImageJ and QuPath, are required for those geometries.\n",
        "\n",
        "# Vizgen MERFISH output\n",
        "The commercialized MERFISH from Vizgen has a standard output format, that can be read into SFE with `readVizgen()`. Because the cell segmentation from each field of view (FOV) has a separate HDF5 file and a MERFISH dataset can have hundreds of FOVs, we strongly recommend reading the MERFISH output on a server with a large number of CPU cores. Alternatively, some but not all MERFISH datasets store cell segmentation in a `parquet` file, which can be more easily read into R. This requires the installation of `arrow`. Here we read a toy dataset which is the first FOV from a real dataset:"
      ]
    },
    {
      "cell_type": "code",
      "execution_count": null,
      "id": "80b7a8ef",
      "metadata": {
        "id": "80b7a8ef"
      },
      "outputs": [],
      "source": [
        "fp <- tempdir()\n",
        "dir_use <- VizgenOutput(file_path = file.path(fp, \"vizgen\"))\n",
        "list.files(dir_use)"
      ]
    },
    {
      "cell_type": "markdown",
      "id": "3587ae48",
      "metadata": {
        "lines_to_next_cell": 0,
        "id": "3587ae48"
      },
      "source": [
        "The optional `add_molecules` argument can be set to `TRUE` to read in the transcript spots"
      ]
    },
    {
      "cell_type": "code",
      "execution_count": null,
      "id": "7ae9cb4e",
      "metadata": {
        "id": "7ae9cb4e"
      },
      "outputs": [],
      "source": [
        "(sfe_mer <- readVizgen(dir_use, z = 3L, image = \"PolyT\", add_molecules = TRUE))"
      ]
    },
    {
      "cell_type": "markdown",
      "id": "3c424189",
      "metadata": {
        "lines_to_next_cell": 0,
        "id": "3c424189"
      },
      "source": [
        "The unit is always in microns. To make it easier and faster to read the data next time, the processed cell segmentation geometries and transcript spots are written to the same directory where the data resides:"
      ]
    },
    {
      "cell_type": "code",
      "execution_count": null,
      "id": "436fe475",
      "metadata": {
        "id": "436fe475"
      },
      "outputs": [],
      "source": [
        "list.files(dir_use)"
      ]
    },
    {
      "cell_type": "markdown",
      "id": "8856c194",
      "metadata": {
        "id": "8856c194"
      },
      "source": [
        "# 10X Xenium output\n",
        "SFE supports reading the output from Xenium Onboarding Analysis (XOA) v1 and v2 with the function `readXenium()`. Especially for XOA v2, `arrow` is strongly recommended. The cell and nuclei polygon vertices and transcript spot coordinates are in `parquet` files  Similar to `readVizgen()`, `readXenium()` makes `sf` data frames from the vertices and transcript spots and saves them as GeoParquet files."
      ]
    },
    {
      "cell_type": "code",
      "execution_count": null,
      "id": "b31ec223",
      "metadata": {
        "id": "b31ec223"
      },
      "outputs": [],
      "source": [
        "dir_use <- XeniumOutput(\"v2\", file_path = file.path(fp, \"xenium\"))\n",
        "list.files(dir_use)"
      ]
    },
    {
      "cell_type": "code",
      "execution_count": null,
      "id": "0d421ccb",
      "metadata": {
        "id": "0d421ccb"
      },
      "outputs": [],
      "source": [
        "# RBioFormats issue: https://github.com/aoles/RBioFormats/issues/42\n",
        "try(sfe_xen <- readXenium(dir_use, add_molecules = TRUE))\n",
        "(sfe_xen <- readXenium(dir_use, add_molecules = TRUE))"
      ]
    },
    {
      "cell_type": "code",
      "execution_count": null,
      "id": "63f8f684",
      "metadata": {
        "lines_to_next_cell": 2,
        "id": "63f8f684"
      },
      "outputs": [],
      "source": [
        "list.files(dir_use)"
      ]
    },
    {
      "cell_type": "markdown",
      "id": "d42203fa",
      "metadata": {
        "id": "d42203fa"
      },
      "source": [
        "# Nanostring CosMX output\n",
        "This is similar to `readVizgen()` and `readXenium()`, except that the output doesn't come with images."
      ]
    },
    {
      "cell_type": "code",
      "execution_count": null,
      "id": "ade2530d",
      "metadata": {
        "id": "ade2530d"
      },
      "outputs": [],
      "source": [
        "dir_use <- CosMXOutput(file_path = file.path(fp, \"cosmx\"))\n",
        "list.files(dir_use)"
      ]
    },
    {
      "cell_type": "code",
      "execution_count": null,
      "id": "b23d486f",
      "metadata": {
        "id": "b23d486f"
      },
      "outputs": [],
      "source": [
        "(sfe_cosmx <- readCosMX(dir_use, add_molecules = TRUE))"
      ]
    },
    {
      "cell_type": "code",
      "execution_count": null,
      "id": "65ef19c8",
      "metadata": {
        "id": "65ef19c8"
      },
      "outputs": [],
      "source": [
        "list.files(dir_use)"
      ]
    },
    {
      "cell_type": "markdown",
      "id": "2b0a6036",
      "metadata": {
        "lines_to_next_cell": 0,
        "id": "2b0a6036"
      },
      "source": [
        "# Other technologies\n",
        "A read function for Visium HD is in progress. Contribution for Akoya, Molecular Cartography, and Curio Seeker are welcome. See the [issues](https://github.com/pachterlab/SpatialFeatureExperiment/issues).\n",
        "\n",
        "# Create SFE object from scratch\n",
        "An SFE object can be constructed from scratch with the assay matrices and metadata. In this toy example, `dgCMatrix` is used, but since SFE inherits from SingleCellExperiment (SCE), other types of arrays supported by SCE such as delayed arrays should also work."
      ]
    },
    {
      "cell_type": "code",
      "execution_count": null,
      "id": "160a837c",
      "metadata": {
        "id": "160a837c"
      },
      "outputs": [],
      "source": [
        "# Visium barcode location from Space Ranger\n",
        "data(\"visium_row_col\")\n",
        "coords1 <- visium_row_col[visium_row_col$col < 6 & visium_row_col$row < 6,]\n",
        "coords1$row <- coords1$row * sqrt(3)\n",
        "\n",
        "# Random toy sparse matrix\n",
        "set.seed(29)\n",
        "col_inds <- sample(1:13, 13)\n",
        "row_inds <- sample(1:5, 13, replace = TRUE)\n",
        "values <- sample(1:5, 13, replace = TRUE)\n",
        "mat <- sparseMatrix(i = row_inds, j = col_inds, x = values)\n",
        "colnames(mat) <- coords1$barcode\n",
        "rownames(mat) <- sample(LETTERS, 5)"
      ]
    },
    {
      "cell_type": "markdown",
      "id": "772c5deb",
      "metadata": {
        "lines_to_next_cell": 0,
        "id": "772c5deb"
      },
      "source": [
        "This should be sufficient to create an SPE object, and an SFE object, even though no `sf` data frame was constructed for the geometries. The constructor behaves similarly to the SPE constructor. The centroid coordinates of the Visium spots in the example can be converted into spot polygons with the `spotDiameter` argument, which can also be relevant to other technologies with round spots or beads, such as Slide-seq. Spot diameter in pixels in full resolution images can be found in the `scalefactors_json.json` file in Space Ranger output."
      ]
    },
    {
      "cell_type": "code",
      "execution_count": null,
      "id": "4a43f71d",
      "metadata": {
        "id": "4a43f71d"
      },
      "outputs": [],
      "source": [
        "sfe3 <- SpatialFeatureExperiment(list(counts = mat), colData = coords1,\n",
        "                                spatialCoordsNames = c(\"col\", \"row\"),\n",
        "                                spotDiameter = 0.7)"
      ]
    },
    {
      "cell_type": "markdown",
      "id": "63aa442a",
      "metadata": {
        "lines_to_next_cell": 0,
        "id": "63aa442a"
      },
      "source": [
        "More geometries and spatial graphs can be added after calling the constructor.\n",
        "\n",
        "Geometries can also be supplied in the constructor."
      ]
    },
    {
      "cell_type": "code",
      "execution_count": null,
      "id": "1eefccbc",
      "metadata": {
        "id": "1eefccbc"
      },
      "outputs": [],
      "source": [
        "# Convert regular data frame with coordinates to sf data frame\n",
        "cg <- df2sf(coords1[,c(\"col\", \"row\")], c(\"col\", \"row\"), spotDiameter = 0.7)\n",
        "rownames(cg) <- colnames(mat)\n",
        "sfe3 <- SpatialFeatureExperiment(list(counts = mat), colGeometries = list(foo = cg))"
      ]
    },
    {
      "cell_type": "markdown",
      "id": "f6fc31d8",
      "metadata": {
        "lines_to_next_cell": 0,
        "id": "f6fc31d8"
      },
      "source": [
        "# Coercion from `SpatialExperiment`\n",
        "SPE objects can be coerced into SFE objects. If column geometries or spot diameter are not specified, then a column geometry called \"centroids\" will be created."
      ]
    },
    {
      "cell_type": "code",
      "execution_count": null,
      "id": "9e04a048",
      "metadata": {
        "id": "9e04a048"
      },
      "outputs": [],
      "source": [
        "spe <- SpatialExperiment::read10xVisium(samples, sample_ids, type = \"sparse\",\n",
        "                                        data = \"filtered\",\n",
        "                                        images = \"hires\", load = FALSE)"
      ]
    },
    {
      "cell_type": "markdown",
      "id": "9160619b",
      "metadata": {
        "lines_to_next_cell": 0,
        "id": "9160619b"
      },
      "source": [
        "For the coercion, column names must not be duplicate."
      ]
    },
    {
      "cell_type": "code",
      "execution_count": null,
      "id": "5dec5b19",
      "metadata": {
        "id": "5dec5b19"
      },
      "outputs": [],
      "source": [
        "colnames(spe) <- make.unique(colnames(spe), sep = \"-\")\n",
        "rownames(spatialCoords(spe)) <- colnames(spe)"
      ]
    },
    {
      "cell_type": "code",
      "execution_count": null,
      "id": "0e41e059",
      "metadata": {
        "id": "0e41e059"
      },
      "outputs": [],
      "source": [
        "(sfe3 <- toSpatialFeatureExperiment(spe))"
      ]
    },
    {
      "cell_type": "markdown",
      "id": "89ec7834",
      "metadata": {
        "lines_to_next_cell": 0,
        "id": "89ec7834"
      },
      "source": [
        "If images are present in the SPE object, they will be converted into `SpatRaster` when the SPE object is converted into SFE. Plotting functions in the `Voyager` package relies on `SpatRaster` to plot the image behind the geometries.\n",
        "\n",
        "# Coercion from `Seurat`\n",
        "Seurat objects can be coerced into SFE objects though coercion from SFE to Seurat is not yet implemented."
      ]
    },
    {
      "cell_type": "code",
      "execution_count": null,
      "id": "405e06c1",
      "metadata": {
        "eval": false,
        "id": "405e06c1"
      },
      "outputs": [],
      "source": [
        "dir_extdata <- system.file(\"extdata\", package = \"SpatialFeatureExperiment\")\n",
        "obj_vis <- readRDS(file.path(dir_extdata, \"seu_vis_toy.rds\"))"
      ]
    },
    {
      "cell_type": "code",
      "execution_count": null,
      "id": "5d2aa212",
      "metadata": {
        "eval": false,
        "id": "5d2aa212"
      },
      "outputs": [],
      "source": [
        "sfe_conv_vis <-\n",
        "  toSpatialFeatureExperiment(x = obj_vis,\n",
        "                             image_scalefactors = \"lowres\",\n",
        "                             unit = \"micron\",\n",
        "                             BPPARAM = BPPARAM)\n",
        "sfe_conv_vis"
      ]
    },
    {
      "cell_type": "markdown",
      "id": "0d1fadae",
      "metadata": {
        "id": "0d1fadae"
      },
      "source": [
        "# Session info"
      ]
    },
    {
      "cell_type": "code",
      "execution_count": null,
      "id": "e151ce70",
      "metadata": {
        "id": "e151ce70"
      },
      "outputs": [],
      "source": [
        "# Clean up\n",
        "unlink(file.path(fp, \"vizgen\"), recursive = TRUE)\n",
        "unlink(file.path(fp, \"xenium\"), recursive = TRUE)\n",
        "unlink(file.path(fp, \"cosmx\"), recursive = TRUE)"
      ]
    },
    {
      "cell_type": "code",
      "execution_count": null,
      "id": "892bbe3c",
      "metadata": {
        "id": "892bbe3c"
      },
      "outputs": [],
      "source": [
        "sessionInfo()"
      ]
    }
  ],
  "metadata": {
    "kernelspec": {
      "display_name": "R",
      "language": "R",
      "name": "ir"
    },
    "colab": {
      "provenance": []
    }
  },
  "nbformat": 4,
  "nbformat_minor": 5
}